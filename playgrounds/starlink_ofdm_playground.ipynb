{
 "cells": [
  {
   "cell_type": "code",
   "execution_count": null,
   "id": "d3b9f08f",
   "metadata": {},
   "outputs": [],
   "source": [
    "import numpy as np\n",
    "import matplotlib.pyplot as plt\n",
    "from scipy.signal import resample\n",
    "from scipy.fftpack import fft"
   ]
  },
  {
   "cell_type": "code",
   "execution_count": null,
   "id": "1924b735",
   "metadata": {},
   "outputs": [],
   "source": [
    "import os\n",
    "import sys\n",
    "sys.path.append(os.path.abspath(\"../utils\"))  # Adjust the path as needed"
   ]
  },
  {
   "cell_type": "code",
   "execution_count": null,
   "id": "8658d43e",
   "metadata": {},
   "outputs": [],
   "source": [
    "from genStrlkOFDM import gen_strlk_ofdm\n",
    "from getClosestFch import get_closest_fch\n",
    "from plotSpec import plot_spec\n",
    "from plotPwr import plot_pwr"
   ]
  },
  {
   "cell_type": "code",
   "execution_count": null,
   "id": "9001c9fd",
   "metadata": {},
   "outputs": [],
   "source": [
    "# ------------------ Options ------------------ #\n",
    "specPlot_en = True\n",
    "pwrPlot_en = True\n",
    "constPlot_en = True"
   ]
  },
  {
   "cell_type": "code",
   "execution_count": null,
   "id": "92d900d6",
   "metadata": {},
   "outputs": [],
   "source": [
    "# ------------------ Parameters ------------------ #\n",
    "NFFT = 2 ** 10  # FFT points for spectrogram"
   ]
  },
  {
   "cell_type": "code",
   "execution_count": null,
   "id": "2eacf11a",
   "metadata": {},
   "outputs": [],
   "source": [
    "# ------------------ OFDM Input Parameters ------------------ #\n",
    "s = {\n",
    "    \"Nsym\": 100,       # Number of OFDM symbols\n",
    "    \"SNRdB\": np.nan,   # Signal to noise ratio (not used in this script)\n",
    "    \"Fsr\": 200e6,      # Receiver sample rate\n",
    "    \"Fcr\": 12.075e9,   # Receiver center frequency\n",
    "    \"beta\": 0,         # Carrier frequency offset\n",
    "    \"Midx\": 4,         # Modulation index\n",
    "    \"type\": \"QAM\",     # Modulation type\n",
    "    \"Fc\": 11.805e9     # Channel center frequency\n",
    "}"
   ]
  },
  {
   "cell_type": "code",
   "execution_count": null,
   "id": "9c03c11d",
   "metadata": {},
   "outputs": [],
   "source": [
    "# ------------------ Generate Signal ------------------ #\n",
    "y = gen_strlk_ofdm(s)  # Generate OFDM signal"
   ]
  },
  {
   "cell_type": "code",
   "execution_count": null,
   "id": "a2842864",
   "metadata": {},
   "outputs": [],
   "source": [
    "# ------------------ Spectrogram ------------------ #\n",
    "if specPlot_en:\n",
    "    Stitle = f\"Spectrogram of {s['Nsym']} Starlink symbols, centered at closest channel center\"\n",
    "    F = 240e6 / 1024\n",
    "    chIdx = round((s[\"Fcr\"] / 1e9 - 10.7 - F / 2 / 1e9) / 0.25 + 0.5)\n",
    "    Fcii = 10.7e9 + F / 2 + 250e6 * (chIdx - 0.5)\n",
    "    tstart = 0\n",
    "    tdur = len(y) / 240e6\n",
    "    plot_spec(y, tstart, tdur, s[\"Fcr\"], s[\"Fsr\"], Fcii, 240e6, NFFT, Stitle)"
   ]
  },
  {
   "cell_type": "code",
   "execution_count": null,
   "id": "d5c5cb63",
   "metadata": {},
   "outputs": [],
   "source": [
    "# ------------------ Power Plot ------------------ #\n",
    "if pwrPlot_en:\n",
    "    plot_pwr(y, 20, 0, len(y) / s[\"Fsr\"], s[\"Fsr\"], NFFT)"
   ]
  },
  {
   "cell_type": "code",
   "execution_count": null,
   "id": "1ccec1c3",
   "metadata": {},
   "outputs": [],
   "source": [
    "# ------------------ Constellation Plot ------------------ #\n",
    "sc_mag_threshold = 0.95  # Threshold for subcarrier selection"
   ]
  },
  {
   "cell_type": "code",
   "execution_count": null,
   "id": "812a671f",
   "metadata": {},
   "outputs": [],
   "source": [
    "if constPlot_en:\n",
    "    # Resample and center the signal to the channel\n",
    "    if s[\"Fsr\"] != 240e6:\n",
    "        tVec = np.arange(len(y)) / s[\"Fsr\"]\n",
    "        y = resample(y, int(len(y) * 240e6 / s[\"Fsr\"]))\n",
    "\n",
    "    # Frequency Shift Correction\n",
    "    f_shift = get_closest_fch(s[\"Fcr\"]) - s[\"Fcr\"]\n",
    "    if f_shift != 0:\n",
    "        tVec = np.arange(len(y)) / 240e6\n",
    "        y *= np.exp(-1j * 2 * np.pi * f_shift * tVec)\n",
    "\n",
    "    # Zero padding\n",
    "    yVec = np.concatenate([y, np.zeros(1056 * np.ceil(len(y) / 1056) - len(y))])\n",
    "\n",
    "    # Remove Cyclic Prefix\n",
    "    y = yVec.reshape((-1, 1056))\n",
    "    y = y[:, 32:]\n",
    "\n",
    "    # Take FFT\n",
    "    Y = (1 / np.sqrt(1024)) * fft(y, axis=1)\n",
    "\n",
    "    # Find good subcarriers\n",
    "    idx = np.where(np.abs(Y) / np.max(np.abs(Y)) > sc_mag_threshold)\n",
    "\n",
    "    # Set gutter values to NaN\n",
    "    Y[:2, :] = np.nan\n",
    "    Y[-2:, :] = np.nan\n",
    "\n",
    "    # Plot Constellation Diagram\n",
    "    print(\"Press Enter to start constellation plotting loop...\")\n",
    "    input()  # Wait for user input before starting the loop\n",
    "    plt.figure()\n",
    "    for ii in range(Y.shape[1]):\n",
    "        plt.scatter(Y[idx][:, ii].real, Y[idx][:, ii].imag, marker=\"*\")\n",
    "        plt.title(f\"Constellation Plot - Symbol {ii+1}\")\n",
    "        plt.xlabel(\"In-phase\")\n",
    "        plt.ylabel(\"Quadrature\")\n",
    "        plt.grid(True)\n",
    "        plt.pause(1)  # Pause for 1 second before plotting next symbol\n",
    "        plt.clf()"
   ]
  }
 ],
 "metadata": {
  "jupytext": {
   "cell_metadata_filter": "-all",
   "main_language": "python",
   "notebook_metadata_filter": "-all"
  }
 },
 "nbformat": 4,
 "nbformat_minor": 5
}
