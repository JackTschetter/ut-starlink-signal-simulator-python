{
 "cells": [
  {
   "cell_type": "code",
   "execution_count": null,
   "metadata": {},
   "outputs": [
    {
     "ename": "",
     "evalue": "",
     "output_type": "error",
     "traceback": [
      "\u001b[1;31mRunning cells with '/opt/homebrew/bin/python3' requires the ipykernel package.\n",
      "\u001b[1;31mRun the following command to install 'ipykernel' into the Python environment. \n",
      "\u001b[1;31mCommand: '/opt/homebrew/bin/python3 -m pip install ipykernel -U --user --force-reinstall'"
     ]
    }
   ],
   "source": [
    "import os\n",
    "import sys\n",
    "import numpy as np\n",
    "import matplotlib.pyplot as plt\n",
    "from scipy.signal import resample\n",
    "from utils import getClosestFch, genOFDM, plotSpec, plotPwr  # Assuming these functions exist in utils\n",
    "\n",
    "# Equivalent to `clc` (clearing command window, but not usually needed in Python)\n",
    "os.system('clear')  # For Linux/macOS\n",
    "# os.system('cls')  # Uncomment this for Windows\n",
    "\n",
    "# Equivalent to `clear all` (removing variables, though not always necessary)\n",
    "from IPython import get_ipython\n",
    "get_ipython().magic('reset -sf')  # Only works in Jupyter/IPython environments\n",
    "\n",
    "fontsize = 14  # Define the font size variable\n",
    "\n",
    "# Equivalent to `addpath(\"../utils\")` (adding a directory to the path)\n",
    "sys.path.append(\"../utils\")"
   ]
  },
  {
   "cell_type": "markdown",
   "metadata": {},
   "source": [
    "This script showcases the genOFDM function, on which the Starlink-specific functions are based on. In this playground, you can view a spectrogram, a power plot (PSD or Power vs time), and view a constellation plot of the sub-carrier data."
   ]
  },
  {
   "cell_type": "code",
   "execution_count": null,
   "metadata": {},
   "outputs": [],
   "source": [
    "# --------------------------------------\n",
    "#                Option                \n",
    "# --------------------------------------\n",
    "specPlot_en = True\n",
    "pwrPlot_en = True\n",
    "constPlot_en = True"
   ]
  },
  {
   "cell_type": "markdown",
   "metadata": {},
   "source": [
    "After choosing how many consecutive OFDM symbols will be generated you can customize the signal."
   ]
  },
  {
   "cell_type": "code",
   "execution_count": null,
   "metadata": {},
   "outputs": [],
   "source": [
    "# --------------------------------------\n",
    "#               Params                  \n",
    "# --------------------------------------\n",
    "NFFT = 2**10  # Number of FFT points for spectrogram, reduced later if too many\n",
    "Nsym = 298"
   ]
  },
  {
   "cell_type": "markdown",
   "metadata": {},
   "source": [
    "You can choose an SNR, a receiver sampling rate Fsr, a receiver center frequency, a CFO (beta), the modulation index, the modulation scheme, the number of subcarriers (N), the cyclic prefix length (Ng), and the channel center, and channel bandwidth. Also, a toggle to enable the gutter (4 center sub-carriers have no power in Starlink)."
   ]
  },
  {
   "cell_type": "code",
   "execution_count": null,
   "metadata": {},
   "outputs": [],
   "source": [
    "# --------------------------------------\n",
    "#            OFDM Input Params         \n",
    "# --------------------------------------\n",
    "\n",
    "# Signal-to-noise ratio (SNR) in dB\n",
    "s = {}\n",
    "s[\"SNRdB\"] = np.nan\n",
    "\n",
    "# Receiver sample rate\n",
    "s[\"Fsr\"] = 62.5e6\n",
    "\n",
    "# Receiver center frequency, in Hz\n",
    "s[\"Fcr\"] = getClosestFch(11.775e9) - 25e6\n",
    "s[\"beta\"] = 0\n",
    "s[\"Midx\"] = 4\n",
    "s[\"type\"] = \"QAM\"\n",
    "s[\"N\"] = 1024\n",
    "s[\"Ng\"] = 32\n",
    "s[\"Nsym\"] = Nsym  # Assuming Nsym is defined elsewhere\n",
    "s[\"Fc\"] = getClosestFch(11.775e9)\n",
    "s[\"Fs\"] = 240e6\n",
    "s[\"gutter\"] = 1\n",
    "\n",
    "# --------------------------------------\n",
    "#           Generate Signal            \n",
    "# --------------------------------------\n",
    "y = genOFDM(s)\n",
    "\n",
    "# --------------------------------------\n",
    "#            Spectrogram                \n",
    "# --------------------------------------\n",
    "if specPlot_en:\n",
    "    t = \"Spectrogram of OFDM symbol\"\n",
    "    Stitle = [t, \"centered at closest channel center\"]\n",
    "    F = 240e6 / 1024\n",
    "    chIdx = round((s[\"Fcr\"] / 1e9 - 10.7 - F / 2 / 1e9) / 0.25 + 0.5)\n",
    "    Fcii = (10.7e9 + F / 2 + 250e6 * (chIdx - 0.5))\n",
    "    plotSpec(y, 0, 0, s[\"Fcr\"], s[\"Fsr\"], Fcii, s[\"Fs\"], NFFT, Stitle)\n",
    "\n",
    "# --------------------------------------\n",
    "#           Power Plots                 \n",
    "# --------------------------------------\n",
    "if pwrPlot_en:\n",
    "    Stitle = [\"Spectrogram of Starlink signal\", \"centered at closest channel center\"]\n",
    "    plotPwr(y, 20, 0, len(y) / s[\"Fsr\"], s[\"Fsr\"], NFFT)\n",
    "\n",
    "# --------------------------------------\n",
    "#         Constellation Plots           \n",
    "# --------------------------------------\n",
    "sc_mag_threshold = 0.95  # Between 0 and 1\n",
    "\n",
    "if constPlot_en:\n",
    "    # Resample and center to channel\n",
    "    if s[\"Fsr\"] != 240e6:\n",
    "        tVec = np.arange(len(y)) / s[\"Fsr\"]\n",
    "        y = resample(y, int(len(y) * 240e6 / s[\"Fsr\"]))\n",
    "    \n",
    "    if getClosestFch(s[\"Fcr\"]) - s[\"Fcr\"] != 0:\n",
    "        tVec = np.arange(len(y)) / 240e6\n",
    "        Fshift = getClosestFch(s[\"Fcr\"]) - s[\"Fcr\"]\n",
    "        y = y * np.exp(-1j * 2 * np.pi * Fshift * tVec)\n",
    "\n",
    "    # Zero padding\n",
    "    pad_length = (1056) * np.ceil(len(y) / 1056).astype(int) - len(y)\n",
    "    yVec = np.concatenate([y, np.zeros(pad_length, dtype=complex)])\n",
    "\n",
    "    # Remove CP\n",
    "    y = yVec.reshape((1056, -1))\n",
    "    y = y[32:, :]\n",
    "\n",
    "    # Take FFT\n",
    "    Y = (1 / np.sqrt(1024)) * np.fft.fft(y, axis=0)\n",
    "\n",
    "    # Find good subchannels\n",
    "    idx = np.where(np.abs(Y) / np.max(np.abs(Y)) > sc_mag_threshold)\n",
    "\n",
    "    # Set gutter values to NaN\n",
    "    Y[:2, :] = np.nan\n",
    "    Y[-2:, :] = np.nan\n",
    "\n",
    "    l, w = Y.shape\n",
    "    input(\"Press any key to start constellation plotting loop...\")  # Equivalent to pause\n",
    "    plt.figure()\n",
    "\n",
    "    for ii in range(w):\n",
    "        plt.plot(Y[idx, ii], \"*\")\n",
    "        plt.pause(1)\n"
   ]
  }
 ],
 "metadata": {
  "kernelspec": {
   "display_name": "Python 3",
   "language": "python",
   "name": "python3"
  },
  "language_info": {
   "name": "python",
   "version": "3.13.2"
  }
 },
 "nbformat": 4,
 "nbformat_minor": 2
}
